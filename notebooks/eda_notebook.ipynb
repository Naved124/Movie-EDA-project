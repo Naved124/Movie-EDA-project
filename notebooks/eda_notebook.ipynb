{
 "cells": [
  {
   "cell_type": "markdown",
   "id": "b1095225",
   "metadata": {},
   "source": [
    "# EDA for TMDB 5000 Movies Dataset"
   ]
  },
  {
   "cell_type": "code",
   "execution_count": null,
   "id": "6b916c9f",
   "metadata": {},
   "outputs": [],
   "source": [
    "\n",
    "import pandas as pd\n",
    "import ast\n",
    "import seaborn as sns\n",
    "import matplotlib.pyplot as plt\n",
    "\n",
    "# Load the dataset\n",
    "data_path = \"../outputs/data/cleaned_tmdb_data.csv\"\n",
    "data = pd.read_csv(data_path)\n",
    "data.head()\n"
   ]
  },
  {
   "cell_type": "markdown",
   "id": "5267058c",
   "metadata": {},
   "source": [
    "## Data Cleaning"
   ]
  },
  {
   "cell_type": "code",
   "execution_count": null,
   "id": "a313989b",
   "metadata": {},
   "outputs": [],
   "source": [
    "\n",
    "# Convert string representations of lists into actual lists\n",
    "columns_to_convert = ['genres', 'keywords', 'production_companies', 'production_countries', 'spoken_languages']\n",
    "for col in columns_to_convert:\n",
    "    data[col] = data[col].apply(ast.literal_eval)\n",
    "\n",
    "# Convert release_date to datetime\n",
    "data['release_date'] = pd.to_datetime(data['release_date'], errors='coerce')\n",
    "data['release_year'] = data['release_date'].dt.year\n",
    "\n",
    "data.info()\n"
   ]
  },
  {
   "cell_type": "markdown",
   "id": "34418e64",
   "metadata": {},
   "source": [
    "## Genre Analysis"
   ]
  },
  {
   "cell_type": "code",
   "execution_count": null,
   "id": "a54e05dd",
   "metadata": {},
   "outputs": [],
   "source": [
    "\n",
    "plt.figure(figsize=(8, 5))\n",
    "genre_counts = data['genres'].explode().value_counts().head(10)\n",
    "genre_counts.plot(kind='bar', color='skyblue', edgecolor='black')\n",
    "plt.title(\"Top 10 Genres by Movie Count\")\n",
    "plt.xlabel(\"Genre\")\n",
    "plt.ylabel(\"Number of Movies\")\n",
    "plt.tight_layout()\n",
    "plt.show()\n"
   ]
  },
  {
   "cell_type": "markdown",
   "id": "9bedc9fa",
   "metadata": {},
   "source": [
    "## Budget vs Revenue"
   ]
  },
  {
   "cell_type": "code",
   "execution_count": null,
   "id": "007f39c4",
   "metadata": {},
   "outputs": [],
   "source": [
    "\n",
    "plt.figure(figsize=(8, 5))\n",
    "sns.scatterplot(data=data, x='budget', y='revenue', alpha=0.6, color='green')\n",
    "plt.title(\"Budget vs Revenue\")\n",
    "plt.xlabel(\"Budget\")\n",
    "plt.ylabel(\"Revenue\")\n",
    "plt.tight_layout()\n",
    "plt.show()\n"
   ]
  },
  {
   "cell_type": "markdown",
   "id": "c247296a",
   "metadata": {},
   "source": [
    "## Average Runtime Over the Years"
   ]
  },
  {
   "cell_type": "code",
   "execution_count": null,
   "id": "d92041a2",
   "metadata": {},
   "outputs": [],
   "source": [
    "\n",
    "avg_runtime_by_year = data.groupby('release_year')['runtime'].mean()\n",
    "plt.figure(figsize=(8, 5))\n",
    "avg_runtime_by_year.plot(color='purple')\n",
    "plt.title(\"Average Runtime Over the Years\")\n",
    "plt.xlabel(\"Year\")\n",
    "plt.ylabel(\"Average Runtime (minutes)\")\n",
    "plt.tight_layout()\n",
    "plt.show()\n"
   ]
  },
  {
   "cell_type": "markdown",
   "id": "c99a87ac",
   "metadata": {},
   "source": [
    "## Vote Average Distribution"
   ]
  },
  {
   "cell_type": "code",
   "execution_count": null,
   "id": "fc78d5bd",
   "metadata": {},
   "outputs": [],
   "source": [
    "\n",
    "plt.figure(figsize=(8, 5))\n",
    "sns.histplot(data['vote_average'], kde=True, color='orange', bins=20)\n",
    "plt.title(\"Distribution of Vote Averages\")\n",
    "plt.xlabel(\"Vote Average\")\n",
    "plt.ylabel(\"Frequency\")\n",
    "plt.tight_layout()\n",
    "plt.show()\n"
   ]
  }
 ],
 "metadata": {
  "kernelspec": {
   "display_name": "Python 3",
   "language": "python",
   "name": "python3"
  },
  "language_info": {
   "codemirror_mode": {
    "name": "ipython",
    "version": 3
   },
   "file_extension": ".py",
   "mimetype": "text/x-python",
   "name": "python",
   "nbconvert_exporter": "python",
   "pygments_lexer": "ipython3",
   "version": "3.13.0"
  }
 },
 "nbformat": 4,
 "nbformat_minor": 5
}
